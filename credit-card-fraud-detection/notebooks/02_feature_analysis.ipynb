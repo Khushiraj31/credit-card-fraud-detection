{
 "cells": [
  {
   "cell_type": "code",
   "execution_count": null,
   "id": "a88e8b59",
   "metadata": {
    "vscode": {
     "languageId": "plaintext"
    }
   },
   "outputs": [],
   "source": [
    "import pandas as pd\n",
    "import matplotlib.pyplot as plt\n",
    "import seaborn as sns\n",
    "\n",
    "df = pd.read_csv(\"data/raw/creditcard.csv\")\n",
    "\n",
    "sns.boxplot(x=\"Class\", y=\"Amount\", data=df)\n",
    "plt.title(\"Amount vs Class\")\n",
    "plt.show()\n",
    "\n",
    "df[\"Time_diff\"] = df[\"Time\"].diff().fillna(0)\n",
    "sns.histplot(df[\"Time_diff\"], bins=50)\n",
    "plt.title(\"Transaction Time Gaps\")\n",
    "plt.show()\n",
    "\n",
    "sns.kdeplot(df[df[\"Class\"] == 0][\"V1\"], label=\"Non-Fraud\")\n",
    "sns.kdeplot(df[df[\"Class\"] == 1][\"V1\"], label=\"Fraud\")\n",
    "plt.title(\"Distribution of V1\")\n",
    "plt.legend()\n",
    "plt.show()\n"
   ]
  }
 ],
 "metadata": {
  "language_info": {
   "name": "python"
  }
 },
 "nbformat": 4,
 "nbformat_minor": 5
}
