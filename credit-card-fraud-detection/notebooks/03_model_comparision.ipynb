{
 "cells": [
  {
   "cell_type": "code",
   "execution_count": null,
   "id": "7ee28f8d",
   "metadata": {
    "vscode": {
     "languageId": "plaintext"
    }
   },
   "outputs": [],
   "source": [
    "import pandas as pd\n",
    "import joblib\n",
    "from sklearn.metrics import classification_report\n",
    "from src.config import TEST_DATA_PATH\n",
    "from src.utils import load_data\n",
    "\n",
    "models = {\n",
    "    \"RandomForest\": joblib.load(\"models/random_forest_model.pkl\"),\n",
    "    \"LogisticRegression\": joblib.load(\"models/logistic_regression_model.pkl\"),\n",
    "    \"XGBoost\": joblib.load(\"models/xgboost_model.pkl\")\n",
    "}\n",
    "\n",
    "X_test, y_test = load_data(TEST_DATA_PATH)\n",
    "\n",
    "for name, model in models.items():\n",
    "    preds = model.predict(X_test)\n",
    "    print(name)\n",
    "    print(classification_report(y_test, preds))\n"
   ]
  }
 ],
 "metadata": {
  "language_info": {
   "name": "python"
  }
 },
 "nbformat": 4,
 "nbformat_minor": 5
}
