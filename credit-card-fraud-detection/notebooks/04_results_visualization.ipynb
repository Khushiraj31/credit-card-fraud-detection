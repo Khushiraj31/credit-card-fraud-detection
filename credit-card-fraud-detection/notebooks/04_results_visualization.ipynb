{
 "cells": [
  {
   "cell_type": "code",
   "execution_count": null,
   "id": "7d475646",
   "metadata": {
    "vscode": {
     "languageId": "plaintext"
    }
   },
   "outputs": [],
   "source": [
    "import pandas as pd\n",
    "import matplotlib.pyplot as plt\n",
    "import seaborn as sns\n",
    "\n",
    "data = pd.read_csv(\"data/results/model_predictions.csv\")\n",
    "metrics = pd.read_json(\"data/results/performance_metrics.json\")\n",
    "\n",
    "sns.histplot(data[data[\"actual\"] == 0][\"prediction\"], color=\"green\", label=\"Non-Fraud\", kde=True)\n",
    "sns.histplot(data[data[\"actual\"] == 1][\"prediction\"], color=\"red\", label=\"Fraud\", kde=True)\n",
    "plt.legend()\n",
    "plt.show()\n",
    "\n",
    "metrics.T.plot.bar()\n",
    "plt.title(\"Model Performance Metrics\")\n",
    "plt.tight_layout()\n",
    "plt.show()\n"
   ]
  }
 ],
 "metadata": {
  "language_info": {
   "name": "python"
  }
 },
 "nbformat": 4,
 "nbformat_minor": 5
}
