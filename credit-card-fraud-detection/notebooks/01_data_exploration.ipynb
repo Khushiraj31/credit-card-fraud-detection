{
 "cells": [
  {
   "cell_type": "code",
   "execution_count": null,
   "id": "68d69a61",
   "metadata": {
    "vscode": {
     "languageId": "plaintext"
    }
   },
   "outputs": [],
   "source": [
    "import pandas as pd\n",
    "import matplotlib.pyplot as plt\n",
    "import seaborn as sns\n",
    "\n",
    "df = pd.read_csv(\"data/raw/creditcard.csv\")\n",
    "\n",
    "print(df.info())\n",
    "print(df.describe())\n",
    "print(df['Class'].value_counts(normalize=True))\n",
    "\n",
    "sns.countplot(x=\"Class\", data=df)\n",
    "plt.title(\"Class Distribution\")\n",
    "plt.show()\n",
    "\n",
    "sns.heatmap(df.corr(), cmap='coolwarm', linewidths=0.5)\n",
    "plt.title(\"Correlation Matrix\")\n",
    "plt.show()\n"
   ]
  }
 ],
 "metadata": {
  "language_info": {
   "name": "python"
  }
 },
 "nbformat": 4,
 "nbformat_minor": 5
}
